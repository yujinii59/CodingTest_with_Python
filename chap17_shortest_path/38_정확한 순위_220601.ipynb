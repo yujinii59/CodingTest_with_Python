{
 "cells": [
  {
   "cell_type": "markdown",
   "id": "e4112cef",
   "metadata": {},
   "source": [
    "#### 문제\n",
    "선생님은 시험을 본 학생 N명의 성적을 분실하고, 성적을 비교한 결과의 일부만 가지고 있습니다. 학생 N명의 성적은 모두 다른데, 다음은 6명의 학생에 대하여 6번만 성적을 비교한 결과입니다.\n",
    "- 1번 학생의 성적 < 5번 학생의 성적\n",
    "- 3번 학생의 성적 < 4번 학생의 성적\n",
    "- 4번 학생의 성적 < 2번 학생의 성적\n",
    "- 4번 학생의 성적 < 6번 학생의 성적\n",
    "- 5번 학생의 성적 < 2번 학생의 성적\n",
    "- 5번 학생의 성적 < 4번 학생의 성적\n",
    "A번 학생의 성적이 B번 학생보다 낮다면 화살표가 A에서 B를 가리키도록 할 때 위의 성적 결과를 다음 그림처럼 표현할 수 있습니다.\n",
    "\n",
    "이 그림으로 유추해서 순위를 정확히 알 수 있는 학생도 있고, 알 수 없는 학생도 있습니다. 예를 들어 1번 학생은 5번 학생보다 성적이 낮고, 5번 학생은 4번 학생보다 성적이 낮으므로 1번 학생은 4번 학생보다 성적이 낮습니다. 따라서 1번, 3번, 5번 학생은 모두 4번 학생보다 성적이 낮다고 볼 수 있습니다. 그리고 4번 학생은 2번 학생과 6번 학생보다 성적이 낮습니다. 정리하면 4번 학생보다 성적이 낮은 학생은 3명이고, 성적이 높은 학생은 2명이므로 4번 학생의 성적 순위를 정확히 알 수 있습니다. 하지만 예시에서 4번 학생을 제외한 다른 학생은 정확한 순위를 알 수 없습니다.\n",
    "\n",
    "학생들의 성적을 비교한 결과가 주어질 때, 성적 순위를 정확히 알 수 있는 학생은 모두 몇 명인지 계산하는 프로그램을 작성하세요.\n",
    "\n",
    "#### 입력 조건\n",
    "- 첫째 줄에 학생들의 수 N(2 <= N <= 500)과 두 학생의 성적을 비교한 횟수 M(2 <= M <= 10,000)이 주어집니다.\n",
    "- 다음 M개의 각 줄에는 두 학생의 성적을 비교한 결과를 나타내는 두 양의 정수 A와 B가 주어집니다. 이는 A번 학생의 성적이 B번 학생보다 낮다는 것을 의미합니다.\n",
    "\n",
    "#### 출력 조건\n",
    "- 첫째 줄에 성적 순위를 정확히 알 수 있는 학생이 몇 명인지 출력합니다.\n",
    "\n",
    "##### 입력 예시\n",
    "6 6\n",
    "\n",
    "1 5\n",
    "\n",
    "3 4\n",
    "\n",
    "4 2\n",
    "\n",
    "4 6\n",
    "\n",
    "5 2\n",
    "\n",
    "5 4\n",
    "\n",
    "##### 출력 예시\n",
    "1"
   ]
  },
  {
   "cell_type": "code",
   "execution_count": 9,
   "id": "9b5b7637",
   "metadata": {},
   "outputs": [
    {
     "name": "stdout",
     "output_type": "stream",
     "text": [
      "6 6\n",
      "1 5\n",
      "3 4\n",
      "4 2\n",
      "4 6\n",
      "5 2\n",
      "5 4\n"
     ]
    }
   ],
   "source": [
    "n, m = map(int, input().split())\n",
    "M = n + 1\n",
    "versus = [[M for _ in range(n + 1)] for _ in range(n + 1)]\n",
    "for _ in range(m):\n",
    "    lower, higher = map(int, input().split())\n",
    "    versus[lower][higher] = 1\n",
    "    versus[higher][lower] = -1\n",
    "    \n",
    "for i in range(1, n + 1):\n",
    "    versus[i][i] = 0\n",
    "    \n",
    "for k in range(1, n + 1):\n",
    "    for i in range(1, n + 1):\n",
    "        for j in range(1, n + 1):\n",
    "            if versus[i][k] * versus[k][j] == 1:\n",
    "                versus[i][j] = versus[i][k]\n",
    "                \n",
    "cnt = sum(1 for i in map(sum, versus) if i < M)\n",
    "print(cnt)"
   ]
  }
 ],
 "metadata": {
  "kernelspec": {
   "display_name": "Python 3 (ipykernel)",
   "language": "python",
   "name": "python3"
  },
  "language_info": {
   "codemirror_mode": {
    "name": "ipython",
    "version": 3
   },
   "file_extension": ".py",
   "mimetype": "text/x-python",
   "name": "python",
   "nbconvert_exporter": "python",
   "pygments_lexer": "ipython3",
   "version": "3.8.10"
  }
 },
 "nbformat": 4,
 "nbformat_minor": 5
}
