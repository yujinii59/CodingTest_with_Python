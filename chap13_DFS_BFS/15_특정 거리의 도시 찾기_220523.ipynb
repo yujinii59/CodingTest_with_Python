{
 "cells": [
  {
   "cell_type": "markdown",
   "id": "ed4e384b",
   "metadata": {},
   "source": [
    "#### 문제\n",
    "어떤 나라에는 1 ~ N번까지의 도시와 M개의 단방향 도로가 존재합니다. 모든 도로의 거리는 1입니다. 이때 특정한 도시 X로부터 출발하여 도달할 수 있는 모든 도시 중에서, 최단 거리가 정확히 K인 모든 도시의 번호를 출력하는 프로그램을 작성하세요. 또한 출발 도시 X에서 출발 도시 X로 가는 최단 거리는 항상 0이라고 가정합니다.\n",
    "\n",
    "#### 입력 조건\n",
    "- 첫째 줄에 도시의 개수 N, 도로의 개수 M, 거리 정보 K, 출발 도시의 번호 X가 주어집니다.\n",
    "(2 <= N <= 300,000, 1 <= M <= 1,000,000, 1 <= K <= 300,000, 1 <= X <= N)\n",
    "- 둘째 줄부터 M개의 줄에 걸쳐서 두 개의 자연수 A, B가 주어지며, 각 자연수는 공백으로 구분합니다.\n",
    "이는 A번 도시에서 B번 도시로 이동하는 단방향 도로가 존재한다는 의미입니다. (1 <= A,B <= N)\n",
    "단, A와 B는 서로 다른 자연수입니다.\n",
    "\n",
    "#### 출력 조건\n",
    "- X로 부터 출발하여 도달할 수 있는 도시 중에서, 최단 거리가 K인 모든 도시의 번호를 한 줄에 하나씩 오름차순으로 출력합니다.\n",
    "- 이때 도달할 수 있는 도시 중에서, 최단 거리가 K인 도시가 하나도 존재하지 않으면 -1을 출력합니다.\n",
    "\n",
    "#### 입력 및 출력\n",
    "4 4 2 1\n",
    "\n",
    "1 2\n",
    "\n",
    "1 3\n",
    "\n",
    "2 3\n",
    "\n",
    "2 4\n",
    "\n",
    "\n",
    "4\n",
    "##### 설명\n",
    "N = 4, K = 2, X = 1일 때 다음과 같이 그래프가 구성되어 있다고 합시다. 이때 1번 도시에서 출발하여 도달할 수 있는 도시 중에서, 최단 거리가 2인 도시는 4번 도시뿐입니다. 2번과 3번 도시의 경우, 최단 거리가 1이기 때문에 출력하지 않습니다."
   ]
  },
  {
   "cell_type": "code",
   "execution_count": 9,
   "id": "12130d75",
   "metadata": {},
   "outputs": [
    {
     "name": "stdout",
     "output_type": "stream",
     "text": [
      "4 4 3 1\n",
      "1 2\n",
      "1 3\n",
      "2 3\n",
      "2 4\n",
      "-1\n"
     ]
    }
   ],
   "source": [
    "import heapq\n",
    "\n",
    "n, m, k, x = map(int, input().split())\n",
    "roads = {i + 1 : [] for i in range(n)}\n",
    "dists = {i + 1 : n for i in range(n)}\n",
    "for _ in range(m):\n",
    "    from_city, to_city = map(int, input().split())\n",
    "    roads[from_city].append(to_city)\n",
    "    \n",
    "q = []    \n",
    "heapq.heappush(q, (0, 1))\n",
    "while q:\n",
    "    dist, city = heapq.heappop(q)\n",
    "    dists[city] = min(dists[city], dist)\n",
    "    if dist < k:\n",
    "        for to_city in roads[city]:\n",
    "           heapq.heappush(q, (dist + 1, to_city))\n",
    "\n",
    "b = True\n",
    "for i, dist in dists.items():\n",
    "    if dist == k:\n",
    "        b = False\n",
    "        print(i)\n",
    "        \n",
    "if b:\n",
    "    print(-1)"
   ]
  },
  {
   "cell_type": "code",
   "execution_count": null,
   "id": "e7360785",
   "metadata": {},
   "outputs": [],
   "source": []
  }
 ],
 "metadata": {
  "kernelspec": {
   "display_name": "Python 3 (ipykernel)",
   "language": "python",
   "name": "python3"
  },
  "language_info": {
   "codemirror_mode": {
    "name": "ipython",
    "version": 3
   },
   "file_extension": ".py",
   "mimetype": "text/x-python",
   "name": "python",
   "nbconvert_exporter": "python",
   "pygments_lexer": "ipython3",
   "version": "3.8.10"
  }
 },
 "nbformat": 4,
 "nbformat_minor": 5
}
