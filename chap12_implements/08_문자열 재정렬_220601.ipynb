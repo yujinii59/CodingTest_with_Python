{
 "cells": [
  {
   "cell_type": "markdown",
   "id": "29560c8b",
   "metadata": {},
   "source": [
    "#### 문제\n",
    "알파벳 대문자와 숫자(0 ~ 9)로만 구성된 문자열이 입력으로 주어집니다. 이때 모든 알파벳을 오름차순으로 정렬하여 이어서 출력한 뒤에, 그 뒤에 모든 숫자를 더한 값을 이어서 출력합니다.\n",
    "\n",
    "#### 입력 조건\n",
    "- 첫째 줄에 하나의 문자열 S가 주어집니다. (1 <= S의 길이 <= 10,000)\n",
    "\n",
    "#### 출력 조건\n",
    "- 첫째 줄에 문제에서 요구하는 정답을 출력합니다.\n",
    "\n",
    "##### 입력 예시 1\n",
    "K1KA5CB7\n",
    "\n",
    "##### 출력 예시 1\n",
    "ABCKK13\n",
    "\n",
    "##### 입력 예시 2\n",
    "AJKDLSI412K4JSJ9D\n",
    "\n",
    "##### 출력 예시 2\n",
    "ADDIJJJKKLSS20\n",
    "\n",
    "##### 예시 설명\n",
    "예를 들어 K1KA5CB7이라는 값이 들어오면 ABCKK13을 출력합니다."
   ]
  },
  {
   "cell_type": "code",
   "execution_count": 1,
   "id": "57206bb8",
   "metadata": {},
   "outputs": [
    {
     "name": "stdout",
     "output_type": "stream",
     "text": [
      "K1KA5CB7\n"
     ]
    }
   ],
   "source": [
    "string = input()\n",
    "alphabet = []\n",
    "num = 0\n",
    "for s in string:\n",
    "    if s.isalpha():\n",
    "        alphabet.append(s)\n",
    "    elif s.isnumeric():\n",
    "        num += int(s)\n",
    "        \n",
    "alphabet.sort()\n",
    "print(''.join(alphabet) + str(num))"
   ]
  }
 ],
 "metadata": {
  "kernelspec": {
   "display_name": "Python 3 (ipykernel)",
   "language": "python",
   "name": "python3"
  },
  "language_info": {
   "codemirror_mode": {
    "name": "ipython",
    "version": 3
   },
   "file_extension": ".py",
   "mimetype": "text/x-python",
   "name": "python",
   "nbconvert_exporter": "python",
   "pygments_lexer": "ipython3",
   "version": "3.8.10"
  }
 },
 "nbformat": 4,
 "nbformat_minor": 5
}
