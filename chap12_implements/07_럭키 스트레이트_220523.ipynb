{
 "cells": [
  {
   "cell_type": "markdown",
   "id": "a8436887",
   "metadata": {},
   "source": [
    "#### 문제\n",
    "게임의 아웃복서 캐릭터는 필살기인 '럭키 스트레이트' 기술이 있습니다. 이 기술은 매우 강력한 대신에 게임 내에서 점수가 특정 조건을 만족할 때만 사용할 수 있습니다.\n",
    "특정 조건이란 현재 캐릭터의 점수를 N이라고 할 때 자릿수를 기준으로 점수 N을 반으로 나누어 왼쪽 부분의 각 자릿수의 합과 오른쪽 부분의 각 자릿수의 합을 더한 값이 동일한 상황을 의미합니다.\n",
    "\n",
    "#### 입력 조건 \n",
    "- 첫째 줄에 점수 N이 정수로 주어집니다. (10 <= N <= 99,999,999)\n",
    "- 단, 점수 N의 자릿수는 항상 짝수 형태로만 주어집니다. \n",
    "- 예를 들어 자릿수가 5인 12,345와 같은 수는 입력으로 들어오지 않습니다.\n",
    "\n",
    "#### 출력 조건\n",
    "- 첫째 줄에 럭키 스트레이트를 사용할 수 있다면 \"LUCKY\"를, 사용할 수 없다면 \"READY\"를 출력합니다.\n",
    "\n",
    "#### 입력 및 출력\n",
    "123402    LUCKY\n",
    "\n",
    "7755      READY\n",
    "\n",
    "##### 설명\n",
    "예를 들어 현재 점수 123,402 라면 왼쪽 부분의 각 자릿수의 합은 1 + 2 + 3, 오른쪽 부분의 각 자릿수의 합은 4 + 0 + 2이므로 두 합이 6으로 동일하여 럭키 스트레이트를 사용할 수 있습니다."
   ]
  },
  {
   "cell_type": "code",
   "execution_count": 2,
   "id": "366fa71a",
   "metadata": {},
   "outputs": [
    {
     "name": "stdout",
     "output_type": "stream",
     "text": [
      "7755\n",
      "READY\n"
     ]
    }
   ],
   "source": [
    "scores = list(map(int, list(input())))\n",
    "\n",
    "mid = len(scores) // 2\n",
    "left = sum(scores[:mid])\n",
    "right = sum(scores[mid:])\n",
    "if left == right:\n",
    "    print('LUCKY')\n",
    "else:\n",
    "    print('READY')"
   ]
  }
 ],
 "metadata": {
  "kernelspec": {
   "display_name": "Python 3 (ipykernel)",
   "language": "python",
   "name": "python3"
  },
  "language_info": {
   "codemirror_mode": {
    "name": "ipython",
    "version": 3
   },
   "file_extension": ".py",
   "mimetype": "text/x-python",
   "name": "python",
   "nbconvert_exporter": "python",
   "pygments_lexer": "ipython3",
   "version": "3.8.10"
  }
 },
 "nbformat": 4,
 "nbformat_minor": 5
}
