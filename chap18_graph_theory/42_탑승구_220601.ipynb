{
 "cells": [
  {
   "cell_type": "markdown",
   "id": "ca9873f6",
   "metadata": {},
   "source": [
    "#### 문제\n",
    "공항에는 G개의 탑승구가 있으며, 각각의 탑승구는 1번부터 G번까지의 번호로 구분됩니다. 공항에는 P개의 비행기가 차례대로 도착할 예정이며, i번째 비행기를 1번부터 g_i번째 (1 <= g_i <= G) 탑승구 중 하나에 영구적으로 도킹해야 합니다. 이때, 다른 비행기가 도킹하지 않은 탑승구에만 도킹할 수 있습니다.\n",
    "또한 P개의 비행기를 순서대로 도킹하다가 만약에 어떠한 탑승구에도 도킹할 수 없는 비행기가 나오는 경우, 그 시점에서 공항의 운행을 중지합니다. 공항의 관리자는 최대한 많은 비행기를 공항에 도킹하고자 합니다. 비행기를 최대 몇 대 도킹할 수 있는지를 출력하는 프로그램을 작성하세요.\n",
    "\n",
    "#### 입력 조건\n",
    "- 첫째 줄에는 탑승구의 수 G(1 <= G <= 100,000)가 주어집니다.\n",
    "- 둘째 줄에는 비행기의 수 P(1 <= P <= 100,000)가 주어집니다.\n",
    "- 다음 P개의 줄에는 각 비행기가 도킹할 수 있는 탑승구의 정보 g_i(1 <= g_i <= G)가 주어집니다. 이는 i번째 비행기가 1번부터 g_i번째 (1 <= g_i <= G) 탑승구 중 하나에 도킹할 수 있다는 의미입니다.\n",
    "\n",
    "#### 출력 조건\n",
    "- 첫째 줄에 도킹할 수 있는 비행기의 최대 개수를 출력합니다.\n",
    "\n",
    "##### 입력 예시 \n",
    "4\n",
    "\n",
    "3\n",
    "\n",
    "4\n",
    "\n",
    "1\n",
    "\n",
    "1\n",
    "\n",
    "##### 출력 예시\n",
    "2"
   ]
  },
  {
   "cell_type": "code",
   "execution_count": 5,
   "id": "79384c56",
   "metadata": {},
   "outputs": [
    {
     "name": "stdout",
     "output_type": "stream",
     "text": [
      "4\n",
      "3\n",
      "4\n",
      "4\n",
      "1\n",
      "3\n"
     ]
    }
   ],
   "source": [
    "g = int(input())\n",
    "boards = [0 for _ in range(g + 1)]\n",
    "p = int(input())\n",
    "cnt = 0\n",
    "poss = True\n",
    "for _ in range(p):\n",
    "    info = int(input())\n",
    "    if poss:\n",
    "        poss = False\n",
    "        for i in range(info, 0, -1):\n",
    "            if boards[i] == 0:\n",
    "                boards[i] = 1\n",
    "                poss = True\n",
    "                break\n",
    "        if poss:\n",
    "            cnt += 1\n",
    "        \n",
    "print(cnt)"
   ]
  }
 ],
 "metadata": {
  "kernelspec": {
   "display_name": "Python 3 (ipykernel)",
   "language": "python",
   "name": "python3"
  },
  "language_info": {
   "codemirror_mode": {
    "name": "ipython",
    "version": 3
   },
   "file_extension": ".py",
   "mimetype": "text/x-python",
   "name": "python",
   "nbconvert_exporter": "python",
   "pygments_lexer": "ipython3",
   "version": "3.8.10"
  }
 },
 "nbformat": 4,
 "nbformat_minor": 5
}
