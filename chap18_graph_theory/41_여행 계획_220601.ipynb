{
 "cells": [
  {
   "cell_type": "markdown",
   "id": "142702c5",
   "metadata": {},
   "source": [
    "#### 문제\n",
    "한울이가 사는 나라에는 N개의 여행지가 있으며, 각 여행지는 1 ~ N번까지의 번호로 구분됩니다.\n",
    "또한 임의의 두 여행지 사이에는 두 여행지를 연결하는 도로가 존재할 수 있습니다. 이때, 여행지가 도로로 연결되어 있다면 양방향으로 이동이 가능하다는 의미입니다. 한울이는 하나의 여행 계획을 세운 뒤에 이 여행 계획이 가능한지의 여부를 판단하고자 합니다. 여행지의 개수와 여행지 간의 연결 정보가 주어졌을 때, 한울이의 여행 계획이 가능한지의 여부를 판별하는 프로그램을 작성하세요.\n",
    "\n",
    "#### 입력 조건\n",
    "- 첫째 줄에 여행지의 수 N과 여행 계획에 속한 도시의 수 M이 주어집니다. (1 <= N,M <= 500)\n",
    "- 다음 N개의 줄에 걸쳐 NxN 행렬을 통해 임의의 두 여행지가 서로 연결되어 있는지의 여부가 주어집니다. 그 값이 1 이라면 서로 연결되었다는 의미이며, 0 이라면 서로 연결되어 있지 않다는 의미입니다.\n",
    "- 마지막 줄에 한울이의 여행 계획에 포함된 여행지의 번호들이 주어지며 공백으로 구분합니다.\n",
    "\n",
    "#### 출력 조건\n",
    "- 첫째 줄에 한울이의 여행 계획이 가능하다면 YES를, 불가능하다면 NO를 출력합니다.\n",
    "\n",
    "##### 입력 예시\n",
    "5 4\n",
    "\n",
    "0 1 0 1 1\n",
    "\n",
    "1 0 1 1 0\n",
    "\n",
    "0 1 0 0 0\n",
    "\n",
    "1 1 0 0 0\n",
    "\n",
    "1 0 0 0 0 \n",
    "\n",
    "2 3 4 3\n",
    "\n",
    "##### 출력 예시\n",
    "YES\n",
    "\n",
    "\n",
    "##### 설명\n",
    "예를 들어 N = 5이고, 다음과 같이 도로의 정보가 주어졌다고 가정합시다.\n",
    "- 1번 여행지 - 2번 여행지\n",
    "- 1번 여행지 - 4번 여행지\n",
    "- 1번 여행지 - 5번 여행지\n",
    "- 2번 여행지 - 3번 여행지\n",
    "- 2번 여행지 - 4번 여행지\n",
    "\n",
    "만약 한울이의 여행 계획이 2번 -> 3번 -> 4번 -> 3번이라고 해봅시다. 이 경우 2번 -> 3번 -> 2번 -> 4번 -> 2번 -> 3번의 순서로 여행지를 방문하면, 여행 계획을 따를 수 있습니다.\n"
   ]
  },
  {
   "cell_type": "code",
   "execution_count": 20,
   "id": "d785d82e",
   "metadata": {},
   "outputs": [
    {
     "name": "stdout",
     "output_type": "stream",
     "text": [
      "5 4\n",
      "0 1 0 1 1\n",
      "1 0 1 1 0\n",
      "0 1 0 0 0\n",
      "1 1 0 0 0\n",
      "1 0 0 0 0\n",
      "2 3 4 3\n"
     ]
    }
   ],
   "source": [
    "n, m = map(int, input().split())\n",
    "\n",
    "roads = [[0] * (n + 1)]\n",
    "for _ in range(n):\n",
    "    roads.append([0] + list(map(int, input().split())))\n",
    "\n",
    "plans = list(map(int, input().split()))\n",
    "\n",
    "for k in range(n):\n",
    "    for i in range(n):\n",
    "        for j in range(m):\n",
    "            if roads[i][k] + roads[k][j] == 2:\n",
    "                roads[i][j] = 1\n",
    "                roads[j][i] = 1\n",
    "\n",
    "b = True\n",
    "for i in range(1, m):\n",
    "    if roads[plans[i - 1]][plans[i]] == 0:\n",
    "        b = False\n",
    "        break\n",
    "        \n",
    "if b:\n",
    "    print('YES')\n",
    "else:\n",
    "    print('NO')"
   ]
  }
 ],
 "metadata": {
  "kernelspec": {
   "display_name": "Python 3 (ipykernel)",
   "language": "python",
   "name": "python3"
  },
  "language_info": {
   "codemirror_mode": {
    "name": "ipython",
    "version": 3
   },
   "file_extension": ".py",
   "mimetype": "text/x-python",
   "name": "python",
   "nbconvert_exporter": "python",
   "pygments_lexer": "ipython3",
   "version": "3.8.10"
  }
 },
 "nbformat": 4,
 "nbformat_minor": 5
}
