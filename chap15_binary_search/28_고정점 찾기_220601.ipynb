{
 "cells": [
  {
   "cell_type": "markdown",
   "id": "1c8fa427",
   "metadata": {},
   "source": [
    "#### 문제\n",
    "고정점이란, 수열의 원소 중에서 그 값이 인덱스와 동인한 원소를 의미합니다. 예를 들어 수열 a = [-15, -4, 2, 8, 13]이 있을 때 a[2] = 2이므로 고정점은 2가 됩니다.\n",
    "\n",
    "하나의 수열이 N개의 서로 다른 원소를 포함하고 있으며, 모든 원소가 오름차순으로 정렬되어 있습니다. 이때 이 수열에서 고정점이 있다면, 고정점을 출력하는 프로그램을 작성하세요. 고정점은 최대 1개만 존재합니다. 만약 고정점이 없다면 -1을 출력합니다.\n",
    "\n",
    "단, 이 문제는 시간 복잡도 O(logN)으로 알고리즘을 설계하지 않으면 '시간 초과' 판정을 받습니다.\n",
    "\n",
    "#### 입력 조건\n",
    "- 첫째 줄에 N이 입력됩니다. (1 <= N <= 1,000,000)\n",
    "- 둘째 줄에 N개의 원소가 정수 형태로 공백으로 구분되어 입력됩니다. \n",
    "\n",
    "    (-10^9 <= 각 원소의 값 < 10^9)\n",
    "\n",
    "\n",
    "#### 출력 조건\n",
    "- 고정점을 출력한다. 고정점이 없다면 -1을 출력합니다.\n",
    "\n",
    "##### 입력 예시 1\n",
    "5\n",
    "\n",
    "-15 -6 1 3 7\n",
    "\n",
    "##### 출력 예시 1\n",
    "3\n",
    "\n",
    "##### 입력 예시 2\n",
    "7\n",
    "\n",
    "-15 -4 2 8 9 13 15\n",
    "\n",
    "##### 출력 예시 1\n",
    "2\n",
    "\n",
    "##### 입력 예시 1\n",
    "7\n",
    "\n",
    "-15 -4 3 8 9 13 15\n",
    "\n",
    "##### 출력 예시 1\n",
    "-1"
   ]
  },
  {
   "cell_type": "code",
   "execution_count": 1,
   "id": "2923ca16",
   "metadata": {},
   "outputs": [],
   "source": [
    "def bisect(ls, start, end):\n",
    "    if start == end:\n",
    "        if ls[start] == start:\n",
    "            return start\n",
    "        else:\n",
    "            return -1\n",
    "    mid = (start + end) // 2\n",
    "    \n",
    "    if ls[mid] > mid:\n",
    "        fixed = bisect(ls, start, mid)\n",
    "    elif ls[mid] < mid:\n",
    "        fixed = bisect(ls, mid + 1, end)\n",
    "    else:\n",
    "        fixed = mid\n",
    "        \n",
    "    return fixed  \n",
    "\n",
    "n = int(input())\n",
    "seq = list(map(int, input().split()))\n",
    "\n",
    "fixed = bisect(seq, 0, n)\n",
    "print(fixed)"
   ]
  }
 ],
 "metadata": {
  "kernelspec": {
   "display_name": "Python 3 (ipykernel)",
   "language": "python",
   "name": "python3"
  },
  "language_info": {
   "codemirror_mode": {
    "name": "ipython",
    "version": 3
   },
   "file_extension": ".py",
   "mimetype": "text/x-python",
   "name": "python",
   "nbconvert_exporter": "python",
   "pygments_lexer": "ipython3",
   "version": "3.8.10"
  }
 },
 "nbformat": 4,
 "nbformat_minor": 5
}
