{
 "cells": [
  {
   "cell_type": "markdown",
   "id": "2cd58c00",
   "metadata": {},
   "source": [
    "#### 문제\n",
    "N개의 원소를 포함하고 있는 수열이 오름차순으로 정렬되어 있습니다. 이때 이 수열에서 x가 등장하는 횟수를 계산하세요. \n",
    "\n",
    "#### 입력 조건\n",
    "- 첫째 줄에 N과 x가 정수 형태로 공백으로 구분되어 입력됩니다.\n",
    "(1 <= N <= 1,000,000), (-10^9 <= x <= 10^9)\n",
    "- 둘째 줄에 N개의 원소가 정수 형태로 공백으로 구분되어 입력됩니다.\n",
    "(-10^9 <= 각 원소의 값 <= 10^9)\n",
    "\n",
    "#### 출력 조건\n",
    "- 수열의 원소 중에서 값이 x인 원소의 개수를 출력합니다. 단, 값이 x인 원소가 하나도 없다면 -1을 출력합니다.\n",
    "\n",
    "#### 입력\n",
    "- 예시 1\n",
    "\n",
    "    7 2\n",
    "\n",
    "    1 1 2 2 2 2 3\n",
    "\n",
    "- 예시 2\n",
    "\n",
    "    7 4\n",
    "\n",
    "    1 1 2 2 2 2 3\n",
    "\n",
    "#### 출력\n",
    "- 예시 1\n",
    " \n",
    "    4\n",
    "\n",
    "- 예시 2\n",
    " \n",
    "    -1\n",
    "    \n",
    "##### 설명\n",
    "수열 [1,1,2,2,2,2,3]이 있을 때 x=2라면, 현재 수열에서 값이 2인 원소가 4개이므로 4를 출력합니다."
   ]
  },
  {
   "cell_type": "code",
   "execution_count": 18,
   "id": "12414396",
   "metadata": {},
   "outputs": [
    {
     "name": "stdout",
     "output_type": "stream",
     "text": [
      "9 1\n",
      "2 2 3 4 5 6 7 8 9\n",
      "-1\n"
     ]
    }
   ],
   "source": [
    "def start_loc(n,  seq, start, end):\n",
    "    if start == end:\n",
    "        if end == len(seq):\n",
    "            return -1\n",
    "        elif seq[start] != n:\n",
    "            return -1\n",
    "\n",
    "    mid = (start + end) // 2\n",
    "    if seq[mid] == n:\n",
    "        if seq[mid - 1] == n:\n",
    "            first = start_loc(n, seq, start, mid)\n",
    "        else:\n",
    "            first = mid\n",
    "    elif seq[mid] > n:\n",
    "        first = start_loc(n, seq, start, mid)\n",
    "    else:\n",
    "        first = start_loc(n, seq, mid + 1, end)\n",
    "    return first\n",
    "\n",
    "def end_loc(n,  seq, start, end):\n",
    "    mid = (start + end) // 2\n",
    "    if seq[mid] == n:\n",
    "        if seq[mid + 1] == n:\n",
    "            last = end_loc(n, seq, mid + 1, end)\n",
    "        else:\n",
    "            last = mid\n",
    "    elif seq[mid] > n:\n",
    "        last = end_loc(n, seq, start, mid)\n",
    "    else:\n",
    "        last = end_loc(n, seq, mid + 1, end)\n",
    "    return last\n",
    "\n",
    "n, x = map(int, input().split())\n",
    "seq = list(map(int, input().split()))\n",
    "\n",
    "first = start_loc(x, seq, 0, n)\n",
    "if first == -1:\n",
    "    print(-1)\n",
    "else:\n",
    "    end = end_loc(x, seq, 0, n)\n",
    "    print(end - first + 1)"
   ]
  },
  {
   "cell_type": "code",
   "execution_count": null,
   "id": "b9353f6f",
   "metadata": {},
   "outputs": [],
   "source": []
  }
 ],
 "metadata": {
  "kernelspec": {
   "display_name": "Python 3 (ipykernel)",
   "language": "python",
   "name": "python3"
  },
  "language_info": {
   "codemirror_mode": {
    "name": "ipython",
    "version": 3
   },
   "file_extension": ".py",
   "mimetype": "text/x-python",
   "name": "python",
   "nbconvert_exporter": "python",
   "pygments_lexer": "ipython3",
   "version": "3.8.10"
  }
 },
 "nbformat": 4,
 "nbformat_minor": 5
}
