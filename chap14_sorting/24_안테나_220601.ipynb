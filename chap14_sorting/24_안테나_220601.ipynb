{
 "cells": [
  {
   "cell_type": "markdown",
   "id": "17a68ef6",
   "metadata": {},
   "source": [
    "#### 문제\n",
    "일직선상의 마을에 여러 채의 집이 위치해 있습니다. 이 중에서 특정 위치의 집에 특별히 한 개의 안테나를 설치하기로 결정했ㅅ브니다. 효율성을 위해 안테나로부터 모든 집까지의 거리의 총합이 최소가 되도록 설치하려고 합니다. 이때 안테나는 집이 위치한 곳에만 설치할 수 있고, 논리적으로 동일한 위치에 여러 개의 집이 존재하는 것이 가능합니다.\n",
    "집들의 위치 값이 주어질 때, 안테나를 설치할 위치를 선택하는 프로그램을 작성하세요.\n",
    "\n",
    "#### 입력 조건\n",
    "- 첫째 줄에 집의 수 N이 자연수로 주어집니다. (1 <= N <= 200,000)\n",
    "- 둘째 줄에 N채의 집에 위치가 공백으로 구분되어 1 이상 100,000이하의 자연수로 주어집니다.\n",
    "\n",
    "#### 출력 조건\n",
    "- 첫째 줄에 안테나를 설치할 위치의 값을 출력합니다. 단, 안테나를 설치할 수 있는 위치값으로 여러 개의 값이 도출될 경우 가장 작은 값을 출력합니다.\n",
    "\n",
    "##### 입력 예시\n",
    "4\n",
    "\n",
    "5 1 7 9\n",
    "\n",
    "##### 출력 예시\n",
    "5\n",
    "\n",
    "##### 예시 설명\n",
    "예를 들어 N = 4이고, 각 위치가 1, 5, 7, 9일 때를 가정하겠습니다.\n",
    "이 경우 5의 위치에 설치했을 때, 안테나로 부터 모든 집까지의 거리의 총합이 (4 + 0 + 2 + 4) = 10 으로, 최소가 됩니다.\n"
   ]
  },
  {
   "cell_type": "code",
   "execution_count": 1,
   "id": "ce5c7daf",
   "metadata": {},
   "outputs": [
    {
     "name": "stdout",
     "output_type": "stream",
     "text": [
      "4\n",
      "5 1 7 9\n",
      "5\n"
     ]
    }
   ],
   "source": [
    "n = int(input())\n",
    "location = list(map(int, input().split()))\n",
    "location.sort()\n",
    "\n",
    "print(location[(n - 1) // 2])"
   ]
  }
 ],
 "metadata": {
  "kernelspec": {
   "display_name": "Python 3 (ipykernel)",
   "language": "python",
   "name": "python3"
  },
  "language_info": {
   "codemirror_mode": {
    "name": "ipython",
    "version": 3
   },
   "file_extension": ".py",
   "mimetype": "text/x-python",
   "name": "python",
   "nbconvert_exporter": "python",
   "pygments_lexer": "ipython3",
   "version": "3.8.10"
  }
 },
 "nbformat": 4,
 "nbformat_minor": 5
}
