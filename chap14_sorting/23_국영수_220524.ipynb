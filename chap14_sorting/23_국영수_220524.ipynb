{
 "cells": [
  {
   "cell_type": "markdown",
   "id": "641304a0",
   "metadata": {},
   "source": [
    "#### 문제\n",
    "도현이네 반 학생 N명의 이름과 국어, 영어, 수학 점수가 주어집니ㅏㄷ. 이때 다음과 같은 조건으로 학생의 성적을 정렬하는 프로그램을 작성하세요.\n",
    "\n",
    "1. 국어 점수가 감소하는 순서로\n",
    "2. 국어 점수가 같으면 영어 점수가 증가하는 순서로\n",
    "3. 국어 점수와 영어 점수가 같으면 수학 점수가 감소하는 순서로\n",
    "4. 모든 점수가 같으면 이름이 사전 순으로 증가하는 순서로 (단, 아스키코드에서 대문자는 소문자보다 작으므로 사전 순으로 앞에 옵니다.)\n",
    "\n",
    "#### 입력 조건\n",
    "- 첫째 줄에 도현이네 반의 학생 수 N(1<= N <= 100,000)이 주어집니다.\n",
    "- 둘째 줄부터 한 줄에 하나씩 각 학생의 이름, 국어, 영어, 수학 점수가 공백으로 구분해 주어집니다.\n",
    "- 점수는 1보다 크거나 같고, 100보다 작거나 같은 자연수입니다.\n",
    "- 이름은 알파벳 대소문자로 이루어진 문자열이고, 길이는 10자리를 넘지 않습니다.\n",
    " \n",
    "#### 출력 조건\n",
    "문제에 나와 있는 정렬 기준으로 정렬한 후 첫째 줄부터 N개의 줄에 걸쳐 각 학생의 이름을 출력합니다.\n",
    "\n",
    "#### 입력\n",
    "12\n",
    "\n",
    "Junkyu 50 60 100\n",
    "\n",
    "Sangkeun 80 60 50\n",
    "\n",
    "Sunyoung 80 70 100\n",
    "\n",
    "Soong 50 60 90\n",
    "\n",
    "Haebin 50 60 100\n",
    "\n",
    "Kangsoo 60 80 100\n",
    "\n",
    "Donghyuk 80 60 100\n",
    "\n",
    "\n",
    "Sei 70 70 70\n",
    "\n",
    "Wonseob 70 70 90\n",
    "\n",
    "Sanghyun 70 70 80\n",
    "\n",
    "nsj 80 80 80\n",
    "\n",
    "Taewhan 50 60 90\n",
    "\n",
    "\n",
    "#### 출력\n",
    "Donghyuk\n",
    "\n",
    "Sangkeun\n",
    "\n",
    "Sunyoung\n",
    "\n",
    "nsj\n",
    "\n",
    "Wonseob\n",
    "\n",
    "Sanghyn\n",
    "\n",
    "Sei\n",
    "\n",
    "Kangsoo\n",
    "\n",
    "Haebin\n",
    "\n",
    "\n",
    "Junkyu\n",
    "\n",
    "Soong\n",
    "\n",
    "Taewhan"
   ]
  },
  {
   "cell_type": "code",
   "execution_count": 5,
   "id": "e0709b6f",
   "metadata": {},
   "outputs": [],
   "source": [
    "n = 12\n",
    "inp = [\n",
    "    'Junkyu 50 60 100',\n",
    "    'Sangkeun 80 60 50',\n",
    "    'Sunyoung 80 70 100',\n",
    "    'Soong 50 60 90',\n",
    "    'Haebin 50 60 100',\n",
    "    'Kangsoo 60 80 100',\n",
    "    'Donghyuk 80 60 100',\n",
    "    'Sei 70 70 70',\n",
    "    'Wonseob 70 70 90',\n",
    "    'Sanghyun 70 70 80',\n",
    "    'nsj 80 80 80',\n",
    "    'Taewhan 50 60 90'\n",
    "]\n",
    "\n",
    "answer = [\n",
    "    'Donghyuk',\n",
    "    'Sangkeun',\n",
    "    'Sunyoung',\n",
    "    'nsj',\n",
    "    'Wonseob',\n",
    "    'Sanghyn',\n",
    "    'Sei',\n",
    "    'Kangsoo',\n",
    "    'Haebin',\n",
    "    'Junkyu',\n",
    "    'Soong',\n",
    "    'Taewhan'\n",
    "]"
   ]
  },
  {
   "cell_type": "code",
   "execution_count": null,
   "id": "bd36ad6e",
   "metadata": {},
   "outputs": [],
   "source": [
    "n = int(input())\n",
    "cases = []\n",
    "for _ in range(n):\n",
    "    name, kor, eng, math = input().split()\n",
    "    cases.append([name, int(kor), int(eng), int(math)])\n",
    "    \n",
    "cases = sorted(cases)\n",
    "cases = sorted(cases, key=lambda x: x[-1], reverse=True)\n",
    "cases = sorted(cases, key=lambda x: x[2])\n",
    "cases = sorted(cases, key=lambda x: x[1], reverse=True)\n",
    "\n",
    "for case in cases:\n",
    "    print(case[0])"
   ]
  },
  {
   "cell_type": "code",
   "execution_count": 13,
   "id": "74517781",
   "metadata": {
    "collapsed": true
   },
   "outputs": [
    {
     "name": "stdout",
     "output_type": "stream",
     "text": [
      "[['Junkyu', 50, 60, 100], ['Sangkeun', 80, 60, 50], ['Sunyoung', 80, 70, 100], ['Soong', 50, 60, 90], ['Haebin', 50, 60, 100], ['Kangsoo', 60, 80, 100], ['Donghyuk', 80, 60, 100], ['Sei', 70, 70, 70], ['Wonseob', 70, 70, 90], ['Sanghyun', 70, 70, 80], ['nsj', 80, 80, 80], ['Taewhan', 50, 60, 90]]\n"
     ]
    }
   ],
   "source": [
    "cases = []\n",
    "for case in inp:\n",
    "    name, kor, eng, math = case.split()\n",
    "    cases.append([name, int(kor), int(eng), int(math)])\n",
    "print(cases)"
   ]
  },
  {
   "cell_type": "code",
   "execution_count": 15,
   "id": "e752b917",
   "metadata": {},
   "outputs": [
    {
     "name": "stdout",
     "output_type": "stream",
     "text": [
      "Donghyuk\n",
      "Sangkeun\n",
      "Sunyoung\n",
      "nsj\n",
      "Wonseob\n",
      "Sanghyun\n",
      "Sei\n",
      "Kangsoo\n",
      "Haebin\n",
      "Junkyu\n",
      "Soong\n",
      "Taewhan\n"
     ]
    }
   ],
   "source": [
    "cases = sorted(cases)\n",
    "cases = sorted(cases, key=lambda x: x[-1], reverse=True)\n",
    "cases = sorted(cases, key=lambda x: x[2])\n",
    "cases = sorted(cases, key=lambda x: x[1], reverse=True)\n",
    "for case in cases:\n",
    "    print(case[0])"
   ]
  },
  {
   "cell_type": "code",
   "execution_count": null,
   "id": "1241a997",
   "metadata": {},
   "outputs": [],
   "source": []
  }
 ],
 "metadata": {
  "kernelspec": {
   "display_name": "Python 3 (ipykernel)",
   "language": "python",
   "name": "python3"
  },
  "language_info": {
   "codemirror_mode": {
    "name": "ipython",
    "version": 3
   },
   "file_extension": ".py",
   "mimetype": "text/x-python",
   "name": "python",
   "nbconvert_exporter": "python",
   "pygments_lexer": "ipython3",
   "version": "3.8.10"
  }
 },
 "nbformat": 4,
 "nbformat_minor": 5
}
