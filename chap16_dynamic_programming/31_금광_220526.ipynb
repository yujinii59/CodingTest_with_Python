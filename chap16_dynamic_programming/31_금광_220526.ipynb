{
 "cells": [
  {
   "cell_type": "markdown",
   "id": "aab43d6e",
   "metadata": {},
   "source": [
    "#### 문제\n",
    "n X m 크기의 금광이 있습니다. 금광은 1 X 1 크기의 칸으로 나누어져 있으며, 각 칸은 특정한 크기의 금이 들어 있습니ㅏㄷ. 채굴자는 첫 번재 열부터 출발하여 금을 캐기 시작합니다. 맨 처음에는 첫 번째 열의 어느 행에서든 출발할 수 있습니다. 이후에 m번에 걸쳐서 매번 오른쪽 위, 오른쪽, 오른쪽 아래 3가지 중 하나의 위치로 이동해야 합니다. 결과적으로 채굴자가 얻을 수 있는 금의 최대 크기를 출력하는 프로그램을 작성하세요.\n",
    "\n",
    "#### 입력 조건\n",
    "- 첫째 줄에 테스트 케이스 T가 입력됩니다. (1 <= T <= 1000)\n",
    "- 매 테스트 케이스 첫째 줄에 n과 m이 공백으로 구분되어 입력됩니다. (1 <= n,m <= 20)\n",
    "- 둘 째 줄에 n X m 개의 위치에 매장된 금의 개수가 공백으로 구분되어 입력됩니다. (0 <= 각 위치에 매장된 금의 개수 <= 100)\n",
    "\n",
    "#### 출력 조건\n",
    "- 테스트 케이스마다 채굴자가 얻을 수 있는 금의 최대 크기를 출력합니다. 각 테스트 케이스는 줄 바꿈을 이용해 구분합니다.\n",
    "\n",
    "##### 입력 예시\n",
    "2\n",
    "\n",
    "3 4\n",
    "\n",
    "1 3 3 2 2 1 4 1 0 6 4 7\n",
    "\n",
    "4 4\n",
    "\n",
    "1 3 1 5 2 2 4 1 5 0 2 3 0 6 1 2\n",
    "\n",
    "##### 출력 예시\n",
    "19\n",
    "\n",
    "16\n",
    "\n",
    "##### 설명\n",
    "다음과 같이 3 x 4 크기의 금광이 존재한다고 가정합시다.\n",
    "\n",
    "1 3 3 2\n",
    "\n",
    "2 1 4 1\n",
    "\n",
    "0 6 4 7\n",
    "\n",
    "가장 왼쪽 위의 위치를 (1,1), 가장 오른쪽 아래의 위치를 (n,m)이라고 할 때, 위 예시에서는 (2,1) -> (3,2) -> (3,3) -> (3,4)의 위치로 이동하면 총 19만큼의 금을 채굴할 수 있으며, 이때의 값이 최댓값입니다."
   ]
  },
  {
   "cell_type": "code",
   "execution_count": null,
   "id": "0ec641a6",
   "metadata": {},
   "outputs": [],
   "source": [
    "from collections import deque\n",
    "\n",
    "t = int(input())\n",
    "for _ in range(t):\n",
    "    n, m = map(int, input().split())\n",
    "    golds = list(map(int, input().split()))\n",
    "\n",
    "    q = deque()\n",
    "    for i in range(n):\n",
    "        q.append((0, i, 0))\n",
    "\n",
    "    max_gold = 0\n",
    "    while q:\n",
    "        gold, row, col = q.popleft()\n",
    "        gold += golds[row * m + col]\n",
    "        if col == m - 1:\n",
    "            if max_gold < gold:\n",
    "                max_gold = gold\n",
    "\n",
    "        else:\n",
    "            if row != 0:\n",
    "                q.append((gold, row - 1, col + 1))\n",
    "            if row != n - 1:\n",
    "                q.append((gold, row + 1, col + 1))\n",
    "            q.append((gold, row, col + 1))\n",
    "    \n",
    "    print(max_gold)"
   ]
  }
 ],
 "metadata": {
  "kernelspec": {
   "display_name": "Python 3 (ipykernel)",
   "language": "python",
   "name": "python3"
  },
  "language_info": {
   "codemirror_mode": {
    "name": "ipython",
    "version": 3
   },
   "file_extension": ".py",
   "mimetype": "text/x-python",
   "name": "python",
   "nbconvert_exporter": "python",
   "pygments_lexer": "ipython3",
   "version": "3.8.10"
  }
 },
 "nbformat": 4,
 "nbformat_minor": 5
}
