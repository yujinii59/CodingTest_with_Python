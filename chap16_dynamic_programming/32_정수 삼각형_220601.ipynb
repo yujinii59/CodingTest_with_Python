{
 "cells": [
  {
   "cell_type": "markdown",
   "id": "ea187c59",
   "metadata": {},
   "source": [
    "#### 문제\n",
    "    7\n",
    "    \n",
    "   3  8\n",
    "   \n",
    "  8  1  0\n",
    "  \n",
    " 2  7  4  4\n",
    " \n",
    "4  5  2  6  5\n",
    "\n",
    "위 그림은 크기가 5인 정수 삼각형의 한 모습입니다.\n",
    "\n",
    "맨 위층 7부터 시작해서 아래에 있는 수 중 하나를 선택하여 아래층으로 내려올 때, 이제까지 선택된 수의 합이 최대가 되는 경로를 구하는 프로그램을 작성하세요. 아래층에 있는 수는 현재 층에서 선택된 수의 대각선 왼쪽 또는 대각선 오른쪽에 있는 것 중에서만 선택할 수 있습니ㅏㄷ.\n",
    "\n",
    "삼각형의 크기는 1이상 500이하입니다. 삼각형을 이루고 있는 각 수는 모두 정수이며, 그 값의 범위는 0이상 9999이하 입니다.\n",
    "\n",
    "#### 입력 조건\n",
    "- 첫째 줄에 삼각형의 크기 n(1 <= n <= 500)이 주어지고, 둘째 줄부터 n + 1번째 줄까지 정수 삼각형이 주어집니다.\n",
    "\n",
    "#### 출력 조건\n",
    "- 첫째 줄에 합이 최대가 되는 경로에 있는 수의 합을 출력합니다.\n",
    "\n",
    "##### 입력 예시\n",
    "5\n",
    "\n",
    "7\n",
    "\n",
    "3 8\n",
    "\n",
    "8 1 0\n",
    "\n",
    "2 7 4 4\n",
    "\n",
    "4 5 2 6 5\n",
    "\n",
    "##### 출력 예시\n",
    "30"
   ]
  },
  {
   "cell_type": "code",
   "execution_count": 6,
   "id": "462b7cad",
   "metadata": {},
   "outputs": [
    {
     "name": "stdout",
     "output_type": "stream",
     "text": [
      "5\n",
      "7\n",
      "3 8\n",
      "8 1 0\n",
      "2 7 4 4\n",
      "4 5 2 6 5\n"
     ]
    }
   ],
   "source": [
    "n = int(input())\n",
    "int_triangle = []\n",
    "for _ in range(n):\n",
    "    int_triangle.append(list(map(int, input().split())))\n",
    "    \n",
    "for i in range(1, n):\n",
    "    rows = int_triangle[i]\n",
    "    for j in range(len(rows)):\n",
    "        if j == 0:\n",
    "            int_triangle[i][j] += int_triangle[i - 1][j]\n",
    "        elif i == j:\n",
    "            int_triangle[i][j] += int_triangle[i - 1][j - 1]\n",
    "        else:\n",
    "            int_triangle[i][j] += max(int_triangle[i - 1][j - 1], int_triangle[i - 1][j])\n",
    "            \n",
    "print(max(int_triangle[n - 1]))"
   ]
  }
 ],
 "metadata": {
  "kernelspec": {
   "display_name": "Python 3 (ipykernel)",
   "language": "python",
   "name": "python3"
  },
  "language_info": {
   "codemirror_mode": {
    "name": "ipython",
    "version": 3
   },
   "file_extension": ".py",
   "mimetype": "text/x-python",
   "name": "python",
   "nbconvert_exporter": "python",
   "pygments_lexer": "ipython3",
   "version": "3.8.10"
  }
 },
 "nbformat": 4,
 "nbformat_minor": 5
}
