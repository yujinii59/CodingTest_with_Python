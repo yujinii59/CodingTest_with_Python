{
 "cells": [
  {
   "cell_type": "markdown",
   "id": "07d6cf79",
   "metadata": {},
   "source": [
    "#### 문제\n",
    "한 마을에 모험가가 N명 있습니다.\n",
    "모험가 길드에서는 N명의 모험가를 대상으로 '공포도'를 측정했는데, '공포도'가 높은 모험가는 쉽게 공포를 느껴 위험 상황에서 제대로 대처할 능력이 떨어집니다.\n",
    "모험가 길드장인 동빈이는 모험가 그룹을 안전하게 구성하고자 공포도가 X인 모험가는 반드시 X명 이상으로 구성한 모험가 그룹에 참여해야 여행을 떠날 수 있도록 규정했습니다.\n",
    "동빈이는 최대 몇 개의 모험가 그룹을 만들 수 잇는지 궁금합니다.\n",
    "동빈이를 위해 N명의 모험가에 대한 정보가 주어졌을 때, 여행을 떠날 수 있는 그룹 수의 최댓값을 구하는 프로그램을 작성하세요\n",
    "\n",
    "#### 입력 조건\n",
    "1. 첫 째 줄에 모험가의 수 N이 주어집니다. (1 <= N <= 100,000)\n",
    "\n",
    "2. 둘째 줄에 각 모험가의 공포도의 값을 N 이하의 자연수로 주어지며, 각 자연수는 공백으로 구분합니다.\n",
    "\n",
    "#### 출력조건\n",
    "여행을 떠날 수 있는 그룹 수의 최댓값을 출력합니다.\n",
    "\n",
    "#### 입력\n",
    "5\n",
    "\n",
    "2 3 1 2 2\n",
    "\n",
    "#### 출력\n",
    "2\n",
    "\n",
    "##### 설명\n",
    "그룹 1에 공포도가 1,2,3인 모험가를 한 명씩 넣고, 그룹 2에 공포도가 2인 남은 두 명을 넣게 되면, 총 2개의 그룹을 만들 수 있습니다. 또한 몇 명의 모험가는 마을에 그대로 남아 있어도 되기 때문에, 모든 모험가를 특정한 그룹에 넣을 필요는 없습니다."
   ]
  },
  {
   "cell_type": "code",
   "execution_count": 2,
   "id": "10878a3d",
   "metadata": {},
   "outputs": [
    {
     "name": "stdout",
     "output_type": "stream",
     "text": [
      "5\n",
      "2 3 1 2 2\n"
     ]
    }
   ],
   "source": [
    "n = int(input())\n",
    "scores = list(map(int, input().split()))\n",
    "scores = sorted(scores, reverse=True)\n",
    "need = 0\n",
    "cnt = 0\n",
    "for score in scores:\n",
    "    if need == 0:\n",
    "        need = score\n",
    "        cnt += 1\n",
    "    else:\n",
    "        need -= 1\n",
    "        \n",
    "print(cnt)"
   ]
  }
 ],
 "metadata": {
  "kernelspec": {
   "display_name": "Python 3 (ipykernel)",
   "language": "python",
   "name": "python3"
  },
  "language_info": {
   "codemirror_mode": {
    "name": "ipython",
    "version": 3
   },
   "file_extension": ".py",
   "mimetype": "text/x-python",
   "name": "python",
   "nbconvert_exporter": "python",
   "pygments_lexer": "ipython3",
   "version": "3.8.10"
  }
 },
 "nbformat": 4,
 "nbformat_minor": 5
}
